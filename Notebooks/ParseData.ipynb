{
 "cells": [
  {
   "cell_type": "markdown",
   "metadata": {},
   "source": [
    "# Converting data to BGZ\n",
    "This script converts data provided by the user to bgz, which can be used as input for the other scripts."
   ]
  },
  {
   "cell_type": "code",
   "execution_count": 5,
   "metadata": {},
   "outputs": [],
   "source": [
    "import matplotlib.pyplot as plt\n",
    "%matplotlib widget\n",
    "import os\n",
    "import math\n",
    "import numpy as np\n",
    "import pandas as pd\n",
    "from tqdm.auto import tqdm\n",
    "import bgzf\n",
    "import struct"
   ]
  },
  {
   "cell_type": "code",
   "execution_count": 5,
   "metadata": {},
   "outputs": [],
   "source": [
    "# You need to fill these variables with your data\n",
    "\n",
    "#Array of latitudes\n",
    "aggregatedLat = array([ 43., -10., -70., -10.,  23.])\n",
    "\n",
    "#Array of longitudes\n",
    "aggregatedLon = array([ -26.25,  -37.5 ,   73.75,   21.25, -141.25])\n",
    "\n",
    "#Array of array of temperature values for each tile over time\n",
    "aggregatedTmp = array(\n",
    "      [[ 1.5798492 ,  1.8321381 ,  0.5708084 , -0.44580078,  1.4061127 ,\n",
    "        -1.230629  , -0.35437775, -0.04407501, -0.42160034,  1.3944321 ],\n",
    "       [ 0.03084564, -0.740036  , -0.88313293, -1.4194336 , -1.4996262 ,\n",
    "        -2.1285858 , -1.4268723 , -1.6078644 , -1.467804  , -1.1422043 ],\n",
    "       [-0.72870636, -0.6142731 , -1.4694595 , -0.49806976,  1.3041077 ,\n",
    "         0.7275696 , -0.19752502, -0.14723969,  0.11739349,  1.2825394 ],\n",
    "       [ 0.08102417, -0.20046997, -0.5849533 ,  0.5385971 , -0.5014496 ,\n",
    "         0.405838  ,  1.066536  ,  0.46675873,  1.0169373 ,  1.616005  ],\n",
    "       [ 1.2005463 ,  1.2109985 ,  0.56030273, -0.34760284, -0.50167084,\n",
    "         0.30960083,  1.2320175 ,  0.9577942 ,  1.1278992 ,  1.9655685 ]])\n",
    "\n",
    "#Array of array of preciptation values for each tile\n",
    "aggregatedPre = array(\n",
    "      [[-0.99980104, -0.33557343,  0.86691135, -0.7873037 ,  1.3694012 ,\n",
    "        -0.44943208, -0.51410973,  1.3692942 ,  0.4644497 , -0.6638292 ],\n",
    "       [ 0.19280966, -0.1697895 ,  0.23093687,  1.0211003 , -0.04870437,\n",
    "         0.96141267,  0.41029805,  0.2872772 ,  0.21241876, -0.48320654],\n",
    "       [-0.1031303 , -0.03230432, -0.07831018, -0.05440712, -0.05186888,\n",
    "        -0.04958966, -0.15158695, -0.17425804, -0.2711414 ,  0.01447531],\n",
    "       [-0.3258545 ,  0.29294914, -0.55703235,  0.41125962,  1.0837593 ,\n",
    "        -1.229733  , -1.0090292 , -0.02073625, -0.5683974 , -0.21409482],\n",
    "       [ 0.36009717,  1.4629359 , -0.1281699 , -0.5517349 , -0.24548867,\n",
    "        -0.40757024, -0.28041136, -0.11839497,  0.46880546,  0.08017799]])\n"
   ]
  },
  {
   "cell_type": "code",
   "execution_count": null,
   "metadata": {},
   "outputs": [],
   "source": [
    "# Saving data to a format that can be read by the other scripts.\n",
    "gridCount = len(aggregatedTmp);\n",
    "seriesSize = len(aggregatedTmp[0]);\n",
    "with bgzf.open(\"Data/climateData2.bgz\",\"wb\") as fd:\n",
    "    fd.write(struct.pack(\"<QQ\",gridCount,seriesSize));\n",
    "    for i in tqdm(range(gridCount)):\n",
    "        lat = aggregatedLat[i];\n",
    "        lon = aggregatedLon[i];\n",
    "        tmpAn = aggregatedTmp[i];\n",
    "        preAn = aggregatedPre[i];\n",
    "        fd.write(struct.pack(\"<ff\",lat,lon));\n",
    "        fd.write(struct.pack(\"<%df\"%len(tmpAn),*tmpAn));\n",
    "        fd.write(struct.pack(\"<%df\"%len(preAn),*preAn));"
   ]
  }
 ],
 "metadata": {
  "kernelspec": {
   "display_name": "Python [conda env:climate]",
   "language": "python",
   "name": "conda-env-climate-py"
  },
  "language_info": {
   "codemirror_mode": {
    "name": "ipython",
    "version": 3
   },
   "file_extension": ".py",
   "mimetype": "text/x-python",
   "name": "python",
   "nbconvert_exporter": "python",
   "pygments_lexer": "ipython3",
   "version": "3.7.6"
  }
 },
 "nbformat": 4,
 "nbformat_minor": 4
}
