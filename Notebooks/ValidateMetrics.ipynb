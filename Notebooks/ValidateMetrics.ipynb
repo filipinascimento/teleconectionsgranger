{
 "cells": [
  {
   "cell_type": "markdown",
   "metadata": {},
   "source": [
    "# Calculate F-Measures based on ground truths\n",
    "This notebook evaluates the teleconnections based on prior works ground truths. It calculates AUC and F1 scores."
   ]
  },
  {
   "cell_type": "code",
   "execution_count": 1,
   "metadata": {},
   "outputs": [],
   "source": [
    "import matplotlib.pyplot as plt\n",
    "%matplotlib widget\n",
    "import numpy as np\n",
    "import os\n",
    "import math\n",
    "import matplotlib\n",
    "matplotlib.rcParams['pdf.fonttype'] = 42\n",
    "matplotlib.rcParams['ps.fonttype'] = 42\n",
    "import pandas as pd\n"
   ]
  },
  {
   "cell_type": "code",
   "execution_count": 2,
   "metadata": {},
   "outputs": [],
   "source": [
    "# Utility Function\n",
    "def inBoundingBox(bl, tr, p):\n",
    "    isLongInRange = False\n",
    "    if (tr[1] < bl[1]) :\n",
    "        isLongInRange = p[1] >= bl[1] or p[1] <= tr[1]\n",
    "    else:\n",
    "        isLongInRange = p[1] >= bl[1] and p[1] <= tr[1]\n",
    "    return p[0] >= bl[0]  and  p[0] <= tr[0]  and  isLongInRange"
   ]
  },
  {
   "cell_type": "code",
   "execution_count": null,
   "metadata": {},
   "outputs": [],
   "source": [
    "#Causality 0.7323946969384352, 29\n",
    "#Lagged 0.7362063171681619, 16"
   ]
  },
  {
   "cell_type": "code",
   "execution_count": null,
   "metadata": {},
   "outputs": [],
   "source": []
  },
  {
   "cell_type": "code",
   "execution_count": 6,
   "metadata": {},
   "outputs": [
    {
     "data": {
      "application/vnd.jupyter.widget-view+json": {
       "model_id": "086e0fa95cfb4245abef19fa57e3e6ba",
       "version_major": 2,
       "version_minor": 0
      },
      "text/plain": [
       "Canvas(toolbar=Toolbar(toolitems=[('Home', 'Reset original view', 'home', 'home'), ('Back', 'Back to previous …"
      ]
     },
     "metadata": {},
     "output_type": "display_data"
    },
    {
     "data": {
      "application/vnd.jupyter.widget-view+json": {
       "model_id": "991183d7e39844dc9fba2af6d8ad8fdd",
       "version_major": 2,
       "version_minor": 0
      },
      "text/plain": [
       "Canvas(toolbar=Toolbar(toolitems=[('Home', 'Reset original view', 'home', 'home'), ('Back', 'Back to previous …"
      ]
     },
     "metadata": {},
     "output_type": "display_data"
    },
    {
     "data": {
      "application/vnd.jupyter.widget-view+json": {
       "model_id": "7bf03b6fd4d8486ca92aaf374d82a93b",
       "version_major": 2,
       "version_minor": 0
      },
      "text/plain": [
       "Canvas(toolbar=Toolbar(toolitems=[('Home', 'Reset original view', 'home', 'home'), ('Back', 'Back to previous …"
      ]
     },
     "metadata": {},
     "output_type": "display_data"
    },
    {
     "data": {
      "application/vnd.jupyter.widget-view+json": {
       "model_id": "5dcb3cf953914014a2795721b5d1177c",
       "version_major": 2,
       "version_minor": 0
      },
      "text/plain": [
       "Canvas(toolbar=Toolbar(toolitems=[('Home', 'Reset original view', 'home', 'home'), ('Back', 'Back to previous …"
      ]
     },
     "metadata": {},
     "output_type": "display_data"
    },
    {
     "data": {
      "application/vnd.jupyter.widget-view+json": {
       "model_id": "dda23b1c22714e1999a0d5a9c21c307d",
       "version_major": 2,
       "version_minor": 0
      },
      "text/plain": [
       "Canvas(toolbar=Toolbar(toolitems=[('Home', 'Reset original view', 'home', 'home'), ('Back', 'Back to previous …"
      ]
     },
     "metadata": {},
     "output_type": "display_data"
    },
    {
     "data": {
      "application/vnd.jupyter.widget-view+json": {
       "model_id": "dfcf4922c33444a6a53c2385c6406b56",
       "version_major": 2,
       "version_minor": 0
      },
      "text/plain": [
       "Canvas(toolbar=Toolbar(toolitems=[('Home', 'Reset original view', 'home', 'home'), ('Back', 'Back to previous …"
      ]
     },
     "metadata": {},
     "output_type": "display_data"
    },
    {
     "data": {
      "application/vnd.jupyter.widget-view+json": {
       "model_id": "6e55449c6ab5444a9f39133a5b4aad38",
       "version_major": 2,
       "version_minor": 0
      },
      "text/plain": [
       "Canvas(toolbar=Toolbar(toolitems=[('Home', 'Reset original view', 'home', 'home'), ('Back', 'Back to previous …"
      ]
     },
     "metadata": {},
     "output_type": "display_data"
    },
    {
     "data": {
      "application/vnd.jupyter.widget-view+json": {
       "model_id": "aff27be84cda47f19280f5bec4191515",
       "version_major": 2,
       "version_minor": 0
      },
      "text/plain": [
       "Canvas(toolbar=Toolbar(toolitems=[('Home', 'Reset original view', 'home', 'home'), ('Back', 'Back to previous …"
      ]
     },
     "metadata": {},
     "output_type": "display_data"
    },
    {
     "data": {
      "application/vnd.jupyter.widget-view+json": {
       "model_id": "84e29547b0f04062987ae32f888a6453",
       "version_major": 2,
       "version_minor": 0
      },
      "text/plain": [
       "Canvas(toolbar=Toolbar(toolitems=[('Home', 'Reset original view', 'home', 'home'), ('Back', 'Back to previous …"
      ]
     },
     "metadata": {},
     "output_type": "display_data"
    },
    {
     "data": {
      "application/vnd.jupyter.widget-view+json": {
       "model_id": "a4ccee510c764904a460526a51c41ca5",
       "version_major": 2,
       "version_minor": 0
      },
      "text/plain": [
       "Canvas(toolbar=Toolbar(toolitems=[('Home', 'Reset original view', 'home', 'home'), ('Back', 'Back to previous …"
      ]
     },
     "metadata": {},
     "output_type": "display_data"
    },
    {
     "data": {
      "application/vnd.jupyter.widget-view+json": {
       "model_id": "eb28fdf4ce6c4505a217e797c1da4a16",
       "version_major": 2,
       "version_minor": 0
      },
      "text/plain": [
       "Canvas(toolbar=Toolbar(toolitems=[('Home', 'Reset original view', 'home', 'home'), ('Back', 'Back to previous …"
      ]
     },
     "metadata": {},
     "output_type": "display_data"
    },
    {
     "data": {
      "application/vnd.jupyter.widget-view+json": {
       "model_id": "1e84dbf2569b40c8a5c69992e0d12f96",
       "version_major": 2,
       "version_minor": 0
      },
      "text/plain": [
       "Canvas(toolbar=Toolbar(toolitems=[('Home', 'Reset original view', 'home', 'home'), ('Back', 'Back to previous …"
      ]
     },
     "metadata": {},
     "output_type": "display_data"
    },
    {
     "data": {
      "application/vnd.jupyter.widget-view+json": {
       "model_id": "94ae52ef7e414a6ab47572b88b83c9d1",
       "version_major": 2,
       "version_minor": 0
      },
      "text/plain": [
       "Canvas(toolbar=Toolbar(toolitems=[('Home', 'Reset original view', 'home', 'home'), ('Back', 'Back to previous …"
      ]
     },
     "metadata": {},
     "output_type": "display_data"
    },
    {
     "data": {
      "application/vnd.jupyter.widget-view+json": {
       "model_id": "3dd268016c2b439494a0749fc53615c4",
       "version_major": 2,
       "version_minor": 0
      },
      "text/plain": [
       "Canvas(toolbar=Toolbar(toolitems=[('Home', 'Reset original view', 'home', 'home'), ('Back', 'Back to previous …"
      ]
     },
     "metadata": {},
     "output_type": "display_data"
    },
    {
     "data": {
      "application/vnd.jupyter.widget-view+json": {
       "model_id": "f8bc0ad680754c818be2b1d1377c9890",
       "version_major": 2,
       "version_minor": 0
      },
      "text/plain": [
       "Canvas(toolbar=Toolbar(toolitems=[('Home', 'Reset original view', 'home', 'home'), ('Back', 'Back to previous …"
      ]
     },
     "metadata": {},
     "output_type": "display_data"
    },
    {
     "data": {
      "application/vnd.jupyter.widget-view+json": {
       "model_id": "0e2e48123a3a424b95fdb8c4f5523b73",
       "version_major": 2,
       "version_minor": 0
      },
      "text/plain": [
       "Canvas(toolbar=Toolbar(toolitems=[('Home', 'Reset original view', 'home', 'home'), ('Back', 'Back to previous …"
      ]
     },
     "metadata": {},
     "output_type": "display_data"
    },
    {
     "data": {
      "application/vnd.jupyter.widget-view+json": {
       "model_id": "a508e609658a4d34a1dd8e15fe789487",
       "version_major": 2,
       "version_minor": 0
      },
      "text/plain": [
       "Canvas(toolbar=Toolbar(toolitems=[('Home', 'Reset original view', 'home', 'home'), ('Back', 'Back to previous …"
      ]
     },
     "metadata": {},
     "output_type": "display_data"
    },
    {
     "data": {
      "application/vnd.jupyter.widget-view+json": {
       "model_id": "ed986dceb3fd4f0ea6a46b5949b9d89c",
       "version_major": 2,
       "version_minor": 0
      },
      "text/plain": [
       "Canvas(toolbar=Toolbar(toolitems=[('Home', 'Reset original view', 'home', 'home'), ('Back', 'Back to previous …"
      ]
     },
     "metadata": {},
     "output_type": "display_data"
    },
    {
     "data": {
      "application/vnd.jupyter.widget-view+json": {
       "model_id": "3992a213b70249238caff03e5175a7bd",
       "version_major": 2,
       "version_minor": 0
      },
      "text/plain": [
       "Canvas(toolbar=Toolbar(toolitems=[('Home', 'Reset original view', 'home', 'home'), ('Back', 'Back to previous …"
      ]
     },
     "metadata": {},
     "output_type": "display_data"
    },
    {
     "data": {
      "application/vnd.jupyter.widget-view+json": {
       "model_id": "e2d63a22632244b5a922bd7088dd8a7a",
       "version_major": 2,
       "version_minor": 0
      },
      "text/plain": [
       "Canvas(toolbar=Toolbar(toolitems=[('Home', 'Reset original view', 'home', 'home'), ('Back', 'Back to previous …"
      ]
     },
     "metadata": {},
     "output_type": "display_data"
    },
    {
     "data": {
      "application/vnd.jupyter.widget-view+json": {
       "model_id": "025cfa22779e4e23a8619af1471723e2",
       "version_major": 2,
       "version_minor": 0
      },
      "text/plain": [
       "Canvas(toolbar=Toolbar(toolitems=[('Home', 'Reset original view', 'home', 'home'), ('Back', 'Back to previous …"
      ]
     },
     "metadata": {},
     "output_type": "display_data"
    },
    {
     "data": {
      "application/vnd.jupyter.widget-view+json": {
       "model_id": "4c8a5a3a4af4417a886e52a5c41c8b08",
       "version_major": 2,
       "version_minor": 0
      },
      "text/plain": [
       "Canvas(toolbar=Toolbar(toolitems=[('Home', 'Reset original view', 'home', 'home'), ('Back', 'Back to previous …"
      ]
     },
     "metadata": {},
     "output_type": "display_data"
    },
    {
     "data": {
      "application/vnd.jupyter.widget-view+json": {
       "model_id": "e6171886bd534f65826a14301250bbf7",
       "version_major": 2,
       "version_minor": 0
      },
      "text/plain": [
       "Canvas(toolbar=Toolbar(toolitems=[('Home', 'Reset original view', 'home', 'home'), ('Back', 'Back to previous …"
      ]
     },
     "metadata": {},
     "output_type": "display_data"
    },
    {
     "data": {
      "application/vnd.jupyter.widget-view+json": {
       "model_id": "94808060565e4546bb87b087c40156cf",
       "version_major": 2,
       "version_minor": 0
      },
      "text/plain": [
       "Canvas(toolbar=Toolbar(toolitems=[('Home', 'Reset original view', 'home', 'home'), ('Back', 'Back to previous …"
      ]
     },
     "metadata": {},
     "output_type": "display_data"
    },
    {
     "data": {
      "application/vnd.jupyter.widget-view+json": {
       "model_id": "e7a09a8b61db4390a743ec79a11a51cc",
       "version_major": 2,
       "version_minor": 0
      },
      "text/plain": [
       "Canvas(toolbar=Toolbar(toolitems=[('Home', 'Reset original view', 'home', 'home'), ('Back', 'Back to previous …"
      ]
     },
     "metadata": {},
     "output_type": "display_data"
    },
    {
     "data": {
      "application/vnd.jupyter.widget-view+json": {
       "model_id": "122c5a5df52d409f8f450ee0f7dcee32",
       "version_major": 2,
       "version_minor": 0
      },
      "text/plain": [
       "Canvas(toolbar=Toolbar(toolitems=[('Home', 'Reset original view', 'home', 'home'), ('Back', 'Back to previous …"
      ]
     },
     "metadata": {},
     "output_type": "display_data"
    },
    {
     "data": {
      "application/vnd.jupyter.widget-view+json": {
       "model_id": "e9ba016f41d342f2b9fa23ead8a731ef",
       "version_major": 2,
       "version_minor": 0
      },
      "text/plain": [
       "Canvas(toolbar=Toolbar(toolitems=[('Home', 'Reset original view', 'home', 'home'), ('Back', 'Back to previous …"
      ]
     },
     "metadata": {},
     "output_type": "display_data"
    },
    {
     "data": {
      "application/vnd.jupyter.widget-view+json": {
       "model_id": "c2928fcb51a449cb9bb43b8a40cb4368",
       "version_major": 2,
       "version_minor": 0
      },
      "text/plain": [
       "Canvas(toolbar=Toolbar(toolitems=[('Home', 'Reset original view', 'home', 'home'), ('Back', 'Back to previous …"
      ]
     },
     "metadata": {},
     "output_type": "display_data"
    },
    {
     "data": {
      "application/vnd.jupyter.widget-view+json": {
       "model_id": "c271de3cdd6d425ab958dec3bbff57a3",
       "version_major": 2,
       "version_minor": 0
      },
      "text/plain": [
       "Canvas(toolbar=Toolbar(toolitems=[('Home', 'Reset original view', 'home', 'home'), ('Back', 'Back to previous …"
      ]
     },
     "metadata": {},
     "output_type": "display_data"
    },
    {
     "data": {
      "application/vnd.jupyter.widget-view+json": {
       "model_id": "371db3c5743842588f016fca2ada0bd4",
       "version_major": 2,
       "version_minor": 0
      },
      "text/plain": [
       "Canvas(toolbar=Toolbar(toolitems=[('Home', 'Reset original view', 'home', 'home'), ('Back', 'Back to previous …"
      ]
     },
     "metadata": {},
     "output_type": "display_data"
    },
    {
     "data": {
      "application/vnd.jupyter.widget-view+json": {
       "model_id": "51985803b2134bec9dd264bf8b3c9f2e",
       "version_major": 2,
       "version_minor": 0
      },
      "text/plain": [
       "Canvas(toolbar=Toolbar(toolitems=[('Home', 'Reset original view', 'home', 'home'), ('Back', 'Back to previous …"
      ]
     },
     "metadata": {},
     "output_type": "display_data"
    },
    {
     "data": {
      "application/vnd.jupyter.widget-view+json": {
       "model_id": "5e499c6b874840ca9561738492b61272",
       "version_major": 2,
       "version_minor": 0
      },
      "text/plain": [
       "Canvas(toolbar=Toolbar(toolitems=[('Home', 'Reset original view', 'home', 'home'), ('Back', 'Back to previous …"
      ]
     },
     "metadata": {},
     "output_type": "display_data"
    },
    {
     "data": {
      "application/vnd.jupyter.widget-view+json": {
       "model_id": "5f89bda344e244e2bc9c397616553021",
       "version_major": 2,
       "version_minor": 0
      },
      "text/plain": [
       "Canvas(toolbar=Toolbar(toolitems=[('Home', 'Reset original view', 'home', 'home'), ('Back', 'Back to previous …"
      ]
     },
     "metadata": {},
     "output_type": "display_data"
    },
    {
     "data": {
      "application/vnd.jupyter.widget-view+json": {
       "model_id": "9f7ea0db1e0348d1b948a580928c6f3d",
       "version_major": 2,
       "version_minor": 0
      },
      "text/plain": [
       "Canvas(toolbar=Toolbar(toolitems=[('Home', 'Reset original view', 'home', 'home'), ('Back', 'Back to previous …"
      ]
     },
     "metadata": {},
     "output_type": "display_data"
    },
    {
     "data": {
      "application/vnd.jupyter.widget-view+json": {
       "model_id": "7c1ff2bcdf4e4f2a82c924dc2989cb1b",
       "version_major": 2,
       "version_minor": 0
      },
      "text/plain": [
       "Canvas(toolbar=Toolbar(toolitems=[('Home', 'Reset original view', 'home', 'home'), ('Back', 'Back to previous …"
      ]
     },
     "metadata": {},
     "output_type": "display_data"
    },
    {
     "data": {
      "application/vnd.jupyter.widget-view+json": {
       "model_id": "535416a97b604c4dab74de4df2379a7e",
       "version_major": 2,
       "version_minor": 0
      },
      "text/plain": [
       "Canvas(toolbar=Toolbar(toolitems=[('Home', 'Reset original view', 'home', 'home'), ('Back', 'Back to previous …"
      ]
     },
     "metadata": {},
     "output_type": "display_data"
    },
    {
     "data": {
      "application/vnd.jupyter.widget-view+json": {
       "model_id": "912494ffccee432fb7c587dadd9f55e5",
       "version_major": 2,
       "version_minor": 0
      },
      "text/plain": [
       "Canvas(toolbar=Toolbar(toolitems=[('Home', 'Reset original view', 'home', 'home'), ('Back', 'Back to previous …"
      ]
     },
     "metadata": {},
     "output_type": "display_data"
    },
    {
     "data": {
      "application/vnd.jupyter.widget-view+json": {
       "model_id": "e492366750d74fdd83e3a878c69f12b5",
       "version_major": 2,
       "version_minor": 0
      },
      "text/plain": [
       "Canvas(toolbar=Toolbar(toolitems=[('Home', 'Reset original view', 'home', 'home'), ('Back', 'Back to previous …"
      ]
     },
     "metadata": {},
     "output_type": "display_data"
    },
    {
     "data": {
      "application/vnd.jupyter.widget-view+json": {
       "model_id": "361a2cd9688f4100b735074280269f1e",
       "version_major": 2,
       "version_minor": 0
      },
      "text/plain": [
       "Canvas(toolbar=Toolbar(toolitems=[('Home', 'Reset original view', 'home', 'home'), ('Back', 'Back to previous …"
      ]
     },
     "metadata": {},
     "output_type": "display_data"
    },
    {
     "data": {
      "application/vnd.jupyter.widget-view+json": {
       "model_id": "712e8cd391e44078a46aaa6302401306",
       "version_major": 2,
       "version_minor": 0
      },
      "text/plain": [
       "Canvas(toolbar=Toolbar(toolitems=[('Home', 'Reset original view', 'home', 'home'), ('Back', 'Back to previous …"
      ]
     },
     "metadata": {},
     "output_type": "display_data"
    },
    {
     "data": {
      "application/vnd.jupyter.widget-view+json": {
       "model_id": "cb94e9360d4d48958ffb11fb60e57314",
       "version_major": 2,
       "version_minor": 0
      },
      "text/plain": [
       "Canvas(toolbar=Toolbar(toolitems=[('Home', 'Reset original view', 'home', 'home'), ('Back', 'Back to previous …"
      ]
     },
     "metadata": {},
     "output_type": "display_data"
    },
    {
     "data": {
      "application/vnd.jupyter.widget-view+json": {
       "model_id": "97e2c276889b46d5848f990141772dba",
       "version_major": 2,
       "version_minor": 0
      },
      "text/plain": [
       "Canvas(toolbar=Toolbar(toolitems=[('Home', 'Reset original view', 'home', 'home'), ('Back', 'Back to previous …"
      ]
     },
     "metadata": {},
     "output_type": "display_data"
    },
    {
     "data": {
      "application/vnd.jupyter.widget-view+json": {
       "model_id": "d6af9773b42b492f807c2fd3c1952f0a",
       "version_major": 2,
       "version_minor": 0
      },
      "text/plain": [
       "Canvas(toolbar=Toolbar(toolitems=[('Home', 'Reset original view', 'home', 'home'), ('Back', 'Back to previous …"
      ]
     },
     "metadata": {},
     "output_type": "display_data"
    },
    {
     "data": {
      "application/vnd.jupyter.widget-view+json": {
       "model_id": "570d0c197b284ba7aec9f3a8dc04e792",
       "version_major": 2,
       "version_minor": 0
      },
      "text/plain": [
       "Canvas(toolbar=Toolbar(toolitems=[('Home', 'Reset original view', 'home', 'home'), ('Back', 'Back to previous …"
      ]
     },
     "metadata": {},
     "output_type": "display_data"
    },
    {
     "data": {
      "application/vnd.jupyter.widget-view+json": {
       "model_id": "35ca2a59b10d44b2a1c06b14b250981c",
       "version_major": 2,
       "version_minor": 0
      },
      "text/plain": [
       "Canvas(toolbar=Toolbar(toolitems=[('Home', 'Reset original view', 'home', 'home'), ('Back', 'Back to previous …"
      ]
     },
     "metadata": {},
     "output_type": "display_data"
    },
    {
     "data": {
      "application/vnd.jupyter.widget-view+json": {
       "model_id": "a6f1ab7f3c32459581feabd202f07b07",
       "version_major": 2,
       "version_minor": 0
      },
      "text/plain": [
       "Canvas(toolbar=Toolbar(toolitems=[('Home', 'Reset original view', 'home', 'home'), ('Back', 'Back to previous …"
      ]
     },
     "metadata": {},
     "output_type": "display_data"
    },
    {
     "data": {
      "application/vnd.jupyter.widget-view+json": {
       "model_id": "50257253f4494600bce8379f21d26c00",
       "version_major": 2,
       "version_minor": 0
      },
      "text/plain": [
       "Canvas(toolbar=Toolbar(toolitems=[('Home', 'Reset original view', 'home', 'home'), ('Back', 'Back to previous …"
      ]
     },
     "metadata": {},
     "output_type": "display_data"
    },
    {
     "data": {
      "application/vnd.jupyter.widget-view+json": {
       "model_id": "0b9d3ea70c1f45e79a9bf7c9fe18eeb0",
       "version_major": 2,
       "version_minor": 0
      },
      "text/plain": [
       "Canvas(toolbar=Toolbar(toolitems=[('Home', 'Reset original view', 'home', 'home'), ('Back', 'Back to previous …"
      ]
     },
     "metadata": {},
     "output_type": "display_data"
    }
   ],
   "source": [
    "# Change dataName to the corresponding datafile in Data folder.\n",
    "maxAUC = 0\n",
    "maxDay = 0\n",
    "maxf1ByDay = []\n",
    "AUCByDay = []\n",
    "for days in range(7,31):\n",
    "    dataName = \"LaggedCorrelation_d%d_l180_nx288_ny140_R0-100_v8\"%days\n",
    "    propertyName = \"pvalue\"\n",
    "    useReverse = True\n",
    "    gridRegions = [];\n",
    "    nx, ny = (288+1,70*2+1)\n",
    "    x = np.linspace(-180+1.25*0.5, 180+1.25*0.50, nx)\n",
    "    y = np.linspace(-70+0.5, 70+0.5, ny)\n",
    "    xv, yv = np.meshgrid(x, y,sparse=False, indexing='ij')\n",
    "    for xi in range(nx-1):\n",
    "        for yi in range(ny-1):\n",
    "            gridRegions.append([yv[xi,yi], yv[xi+1,yi+1], xv[xi,yi],xv[xi+1,yi+1]]);\n",
    "\n",
    "\n",
    "    boxes = {\n",
    "         \"Australia\" : [[-50,90],[25,-110]],\n",
    "         \"Asia\" : [[0,45],[50,100]],\n",
    "         \"Africa\" : [[-40,-20],[20,55]],\n",
    "         \"S. America\" : [[-20,-90],[24,-35]],\n",
    "         \"S. America 2\" : [[-60,-90],[-21,-40]],\n",
    "         \"N. America\" : [[25,-130],[60,-55]],\n",
    "    }\n",
    "\n",
    "    ENSORegion = [[-5 , -170] ,[5, -120]];\n",
    "\n",
    "\n",
    "    dfelnino = pd.read_csv(\"../Data/elninoPoints_v2.csv\")\n",
    "    dflanina = pd.read_csv(\"../Data/laninaPoints_v2.csv\")\n",
    "\n",
    "    dfOrig = pd.read_csv(\"../Data/%s.csv\"%dataName)\n",
    "    if(useReverse):\n",
    "        dfOrig[\"sortedProperty\"] = -dfOrig[propertyName]\n",
    "    else:\n",
    "        dfOrig[\"sortedProperty\"] = dfOrig[propertyName]\n",
    "    # pvalues = df[\"causality\"].to_numpy()\n",
    "    pvalues = dfOrig[\"sortedProperty\"].to_numpy();\n",
    "\n",
    "    insideRegions = dfelnino[\"inside\"].to_numpy()+dflanina[\"inside\"].to_numpy();\n",
    "    #pvalues = pvalues*0+0.001\n",
    "\n",
    "\n",
    "    inAllBoxes = np.zeros(len(gridRegions),dtype=np.bool);\n",
    "    inBoxes = {};\n",
    "    inRegionCount = 0;\n",
    "    outRegionCount = 0;\n",
    "    for key, box in boxes.items():\n",
    "        inBoxes[key] = np.zeros(len(gridRegions),dtype=np.bool);\n",
    "        thisInBoxes = inBoxes[key];\n",
    "        for i,region in enumerate(gridRegions):\n",
    "            lat,lng = np.mean(region[0:1]),np.mean(region[2:3]);\n",
    "            if(inBoundingBox(box[0],box[1],[lat,lng]) and not inBoundingBox(ENSORegion[0],ENSORegion[1],[lat,lng])):\n",
    "                inAllBoxes[i] = True;\n",
    "                thisInBoxes[i] = True;\n",
    "                if(insideRegions[i]):\n",
    "                    inRegionCount += 1;\n",
    "                else:\n",
    "                    outRegionCount += 1;\n",
    "\n",
    "    pvalues[~inAllBoxes] = np.float(\"nan\");\n",
    "\n",
    "    positivePValues = np.array(pvalues)\n",
    "\n",
    "    key = \"All\"\n",
    "    # for key in list(inBoxes.keys())+[\"All\"]:\n",
    "    for key in [\"All\"]:\n",
    "        recalls = [];\n",
    "        precisions = [];\n",
    "        TPRs = []\n",
    "        FPRs = []\n",
    "        FMeasures = [];\n",
    "        F2Measures = [];\n",
    "        if(key==\"All\"):\n",
    "            insideBox = inAllBoxes;\n",
    "        else:\n",
    "            insideBox = inBoxes[key];\n",
    "\n",
    "        selectedPValue = positivePValues[insideBox];\n",
    "        selectedInsideRegions = insideRegions[insideBox];\n",
    "        selectedIndices = np.argsort(selectedPValue)\n",
    "        percentiles = np.linspace(100,0,len(selectedIndices))\n",
    "\n",
    "        for index in range(len(selectedIndices)):\n",
    "            confusionMatrix = np.zeros([2,2]);\n",
    "\n",
    "\n",
    "            inThreshold = np.zeros(len(selectedInsideRegions),dtype=np.bool);\n",
    "            inThreshold[selectedIndices[index:]] = True;\n",
    "            inThresholdInRegions = selectedInsideRegions[inThreshold];\n",
    "            inThresholdNotInRegions = ~selectedInsideRegions[inThreshold];\n",
    "\n",
    "            notInThresholdInRegions = selectedInsideRegions[~inThreshold];\n",
    "            notInThresholdNotInRegions = ~selectedInsideRegions[~inThreshold];\n",
    "\n",
    "            #confusion Matrix\n",
    "            c11 = np.sum(inThresholdInRegions);\n",
    "            c01 = np.sum(inThresholdNotInRegions);\n",
    "            c10 = np.sum(notInThresholdInRegions);\n",
    "            c00 = np.sum(notInThresholdNotInRegions);\n",
    "\n",
    "            TP = c11;\n",
    "            FN = c10;\n",
    "            FP = c01;\n",
    "            TN = c00;\n",
    "            TPRs.append(TP/(TP+FN));\n",
    "            FPRs.append(FP/(FP+TN));\n",
    "            precision=TP/(TP+FP);\n",
    "            recall=TP/(TP+FN);\n",
    "            FMeasure = 2.0*(precision*recall)/(precision+recall)\n",
    "            F2Measure = (1+4)*(precision*recall)/(4*precision+recall)\n",
    "            (precision,recall,FMeasure)\n",
    "            precisions.append(precision);\n",
    "            recalls.append(recall);\n",
    "            FMeasures.append(FMeasure);\n",
    "            F2Measures.append(F2Measure);\n",
    "        fig = plt.figure(figsize=(5,2.5))\n",
    "\n",
    "        xp = selectedPValue[selectedIndices]\n",
    "        fp = percentiles\n",
    "    #     for pLine in [0.05,0.01,0.001]:\n",
    "    #         pPercentile = np.interp(pLine, xp, fp)\n",
    "    #         plt.axvline(x=pPercentile,ls=\"--\",lw=0.5,color=(0.3,0.3,0.3))\n",
    "    #         plt.text(pPercentile+0.5, 0.98, \"%g\"%pLine,rotation=90,fontsize=8,color=(0.3,0.3,0.3))\n",
    "        plt.plot(percentiles,recalls, label=\"Recall\");\n",
    "        plt.plot(percentiles,precisions, label=\"Precision\");\n",
    "        plt.plot(percentiles,FMeasures,label=\"F1\");\n",
    "    #     plt.plot(percentiles,F2Measures,label=\"F2\");\n",
    "        plt.title(key)\n",
    "        plt.xlabel(\"Percentile\")\n",
    "        plt.legend(loc = 'lower right',fontsize='small',fancybox=False,labelspacing=0.3,frameon=False,borderaxespad=0.1)\n",
    "        plt.tight_layout()\n",
    "        fig.savefig(\"../Figures/%s_v2_test_%s.pdf\"%(dataName,key))\n",
    "        #plt.show()\n",
    "        plt.close()\n",
    "\n",
    "        fig = plt.figure(figsize=(2.5,2.5))\n",
    "        plt.plot(FPRs,TPRs,color = \"#991111\")\n",
    "        plt.plot([0,1],[0,1],\"--\",color=\"#AAAAAA\")\n",
    "        plt.xlabel(\"False Positives Ratio\")\n",
    "        plt.ylabel(\"True Positives Ratio\")\n",
    "        plt.xlim(0,1);\n",
    "        plt.ylim(0,1);\n",
    "        AUC = (-np.trapz(TPRs,FPRs))\n",
    "        plt.title(key+\" (AUC=%.2f)\"%AUC)\n",
    "        plt.tight_layout()\n",
    "        fig.savefig(\"../Figures/%s_AUC_v2_test_%s.pdf\"%(dataName,key))\n",
    "        #plt.show()\n",
    "        plt.close()\n",
    "        if(AUC>maxAUC):\n",
    "            maxAUC=AUC\n",
    "            maxDay = days\n",
    "        AUCByDay.append(AUC)\n",
    "        maxf1ByDay.append(np.max(FMeasures))"
   ]
  },
  {
   "cell_type": "code",
   "execution_count": 5,
   "metadata": {},
   "outputs": [
    {
     "data": {
      "application/vnd.jupyter.widget-view+json": {
       "model_id": "cb5db939aa0949ea808f5c4345bc6e9a",
       "version_major": 2,
       "version_minor": 0
      },
      "text/plain": [
       "Canvas(toolbar=Toolbar(toolitems=[('Home', 'Reset original view', 'home', 'home'), ('Back', 'Back to previous …"
      ]
     },
     "metadata": {},
     "output_type": "display_data"
    }
   ],
   "source": [
    "fig = plt.figure(figsize=(4.5,3.5))\n",
    "plt.plot(np.arange(7,31),AUCByDay,label=\"AUC\")\n",
    "plt.plot(np.arange(7,31),maxf1ByDay,label=\"Max F-1\")\n",
    "plt.xlabel(\"Resolution (days)\")\n",
    "plt.ylabel(\"Classification metric\")\n",
    "# plt.xlim(0,1);\n",
    "plt.ylim(0.6,0.75);\n",
    "plt.legend()\n",
    "plt.title(dataName)\n",
    "plt.tight_layout()\n",
    "fig.savefig(\"../Figures/AUCAndF1_%s.pdf\"%(dataName))\n",
    "plt.show()"
   ]
  },
  {
   "cell_type": "code",
   "execution_count": null,
   "metadata": {},
   "outputs": [],
   "source": []
  },
  {
   "cell_type": "code",
   "execution_count": 3,
   "metadata": {},
   "outputs": [
    {
     "data": {
      "application/vnd.jupyter.widget-view+json": {
       "model_id": "d9af7e83f12248ec95db17e428ef6ddb",
       "version_major": 2,
       "version_minor": 0
      },
      "text/plain": [
       "Canvas(toolbar=Toolbar(toolitems=[('Home', 'Reset original view', 'home', 'home'), ('Back', 'Back to previous …"
      ]
     },
     "metadata": {},
     "output_type": "display_data"
    },
    {
     "data": {
      "application/vnd.jupyter.widget-view+json": {
       "model_id": "593d22e2c98f4a08b036cf053036e372",
       "version_major": 2,
       "version_minor": 0
      },
      "text/plain": [
       "Canvas(toolbar=Toolbar(toolitems=[('Home', 'Reset original view', 'home', 'home'), ('Back', 'Back to previous …"
      ]
     },
     "metadata": {},
     "output_type": "display_data"
    }
   ],
   "source": [
    "# Change dataName to the corresponding datafile in Data folder.\n",
    "dataName = \"Causality_dAll_l180_nx288_ny140_R0-100_p0.00100_v8\"\n",
    "dataName2 = \"LaggedCorrelation_dAll_l180_nx288_ny140_R0-100_p0.00100_v8\"\n",
    "\n",
    "propertyName = \"counts\"\n",
    "gridRegions = [];\n",
    "nx, ny = (288+1,70*2+1)\n",
    "x = np.linspace(-180+1.25*0.5, 180+1.25*0.50, nx)\n",
    "y = np.linspace(-70+0.5, 70+0.5, ny)\n",
    "xv, yv = np.meshgrid(x, y,sparse=False, indexing='ij')\n",
    "for xi in range(nx-1):\n",
    "    for yi in range(ny-1):\n",
    "        gridRegions.append([yv[xi,yi], yv[xi+1,yi+1], xv[xi,yi],xv[xi+1,yi+1]]);\n",
    "\n",
    "        \n",
    "boxes = {\n",
    "     \"Australia\" : [[-50,90],[25,-110]],\n",
    "     \"Asia\" : [[0,45],[50,100]],\n",
    "     \"Africa\" : [[-40,-20],[20,55]],\n",
    "     \"S. America\" : [[-20,-90],[24,-35]],\n",
    "     \"S. America 2\" : [[-60,-90],[-21,-40]],\n",
    "     \"N. America\" : [[25,-130],[60,-55]],\n",
    "}\n",
    "\n",
    "ENSORegion = [[-5 , -170] ,[5, -120]];\n",
    "\n",
    "  \n",
    "dfelnino = pd.read_csv(\"../Data/elninoPoints_v2.csv\")\n",
    "dflanina = pd.read_csv(\"../Data/laninaPoints_v2.csv\")\n",
    "\n",
    "dfOrig = pd.read_csv(\"../Data/%s.csv\"%dataName)\n",
    "dfOrig2 = pd.read_csv(\"../Data/%s.csv\"%dataName)\n",
    "\n",
    "# pvalues = df[\"causality\"].to_numpy()\n",
    "pvalues = dfOrig[propertyName].to_numpy();\n",
    "pvalues2 = dfOrig2[propertyName].to_numpy();\n",
    "\n",
    "pvalues +=pvalues2*0.5\n",
    "\n",
    "insideRegions = dfelnino[\"inside\"].to_numpy()+dflanina[\"inside\"].to_numpy();\n",
    "#pvalues = pvalues*0+0.001\n",
    "\n",
    "\n",
    "inAllBoxes = np.zeros(len(gridRegions),dtype=np.bool);\n",
    "inBoxes = {};\n",
    "inRegionCount = 0;\n",
    "outRegionCount = 0;\n",
    "for key, box in boxes.items():\n",
    "    inBoxes[key] = np.zeros(len(gridRegions),dtype=np.bool);\n",
    "    thisInBoxes = inBoxes[key];\n",
    "    for i,region in enumerate(gridRegions):\n",
    "        lat,lng = np.mean(region[0:1]),np.mean(region[2:3]);\n",
    "        if(inBoundingBox(box[0],box[1],[lat,lng]) and not inBoundingBox(ENSORegion[0],ENSORegion[1],[lat,lng])):\n",
    "            inAllBoxes[i] = True;\n",
    "            thisInBoxes[i] = True;\n",
    "            if(insideRegions[i]):\n",
    "                inRegionCount += 1;\n",
    "            else:\n",
    "                outRegionCount += 1;\n",
    "                \n",
    "pvalues[~inAllBoxes] = np.float(\"nan\");\n",
    "\n",
    "positivePValues = np.array(pvalues)\n",
    "\n",
    "key = \"All\"\n",
    "# for key in list(inBoxes.keys())+[\"All\"]:\n",
    "for key in [\"All\"]:\n",
    "    recalls = [];\n",
    "    precisions = [];\n",
    "    TPRs = []\n",
    "    FPRs = []\n",
    "    FMeasures = [];\n",
    "    F2Measures = [];\n",
    "    if(key==\"All\"):\n",
    "        insideBox = inAllBoxes;\n",
    "    else:\n",
    "        insideBox = inBoxes[key];\n",
    "        \n",
    "    selectedPValue = positivePValues[insideBox];\n",
    "    selectedInsideRegions = insideRegions[insideBox];\n",
    "    selectedIndices = np.argsort(selectedPValue)\n",
    "    percentiles = np.linspace(100,0,len(selectedIndices))\n",
    "            \n",
    "    for index in range(len(selectedIndices)):\n",
    "        confusionMatrix = np.zeros([2,2]);\n",
    "        \n",
    "        \n",
    "        inThreshold = np.zeros(len(selectedInsideRegions),dtype=np.bool);\n",
    "        inThreshold[selectedIndices[index:]] = True;\n",
    "        inThresholdInRegions = selectedInsideRegions[inThreshold];\n",
    "        inThresholdNotInRegions = ~selectedInsideRegions[inThreshold];\n",
    "        \n",
    "        notInThresholdInRegions = selectedInsideRegions[~inThreshold];\n",
    "        notInThresholdNotInRegions = ~selectedInsideRegions[~inThreshold];\n",
    "        \n",
    "        #confusion Matrix\n",
    "        c11 = np.sum(inThresholdInRegions);\n",
    "        c01 = np.sum(inThresholdNotInRegions);\n",
    "        c10 = np.sum(notInThresholdInRegions);\n",
    "        c00 = np.sum(notInThresholdNotInRegions);\n",
    "        \n",
    "        TP = c11;\n",
    "        FN = c10;\n",
    "        FP = c01;\n",
    "        TN = c00;\n",
    "        TPRs.append(TP/(TP+FN));\n",
    "        FPRs.append(FP/(FP+TN));\n",
    "        precision=TP/(TP+FP);\n",
    "        recall=TP/(TP+FN);\n",
    "        FMeasure = 2.0*(precision*recall)/(precision+recall)\n",
    "        F2Measure = (1+4)*(precision*recall)/(4*precision+recall)\n",
    "        (precision,recall,FMeasure)\n",
    "        precisions.append(precision);\n",
    "        recalls.append(recall);\n",
    "        FMeasures.append(FMeasure);\n",
    "        F2Measures.append(F2Measure);\n",
    "    fig = plt.figure(figsize=(5,2.5))\n",
    "    \n",
    "    xp = selectedPValue[selectedIndices]\n",
    "    fp = percentiles\n",
    "#     for pLine in [0.05,0.01,0.001]:\n",
    "#         pPercentile = np.interp(pLine, xp, fp)\n",
    "#         plt.axvline(x=pPercentile,ls=\"--\",lw=0.5,color=(0.3,0.3,0.3))\n",
    "#         plt.text(pPercentile+0.5, 0.98, \"%g\"%pLine,rotation=90,fontsize=8,color=(0.3,0.3,0.3))\n",
    "    plt.plot(percentiles,recalls, label=\"Recall\");\n",
    "    plt.plot(percentiles,precisions, label=\"Precision\");\n",
    "    plt.plot(percentiles,FMeasures,label=\"F1\");\n",
    "    plt.plot(percentiles,F2Measures,label=\"F2\");\n",
    "    plt.title(key)\n",
    "    plt.xlabel(\"Percentile\")\n",
    "    plt.legend(loc = 'lower right',fontsize='small',fancybox=False,labelspacing=0.3,frameon=False,borderaxespad=0.1)\n",
    "    plt.tight_layout()\n",
    "    fig.savefig(\"../Figures/%s_v2_test_%s.pdf\"%(dataName,key))\n",
    "    plt.show()\n",
    "    \n",
    "    fig = plt.figure(figsize=(2.5,2.5))\n",
    "    plt.plot(FPRs,TPRs,color = \"#991111\")\n",
    "    plt.plot([0,1],[0,1],\"--\",color=\"#AAAAAA\")\n",
    "    plt.xlabel(\"False Positives Ratio\")\n",
    "    plt.ylabel(\"True Positives Ratio\")\n",
    "    plt.xlim(0,1);\n",
    "    plt.ylim(0,1);\n",
    "    AUC = (-np.trapz(TPRs,FPRs))\n",
    "    plt.title(key+\" (AUC=%.2f)\"%AUC)\n",
    "    plt.tight_layout()\n",
    "    fig.savefig(\"../Figures/%s_AUC_v2_test_%s.pdf\"%(dataName,key))\n",
    "    plt.show()\n",
    "    "
   ]
  }
 ],
 "metadata": {
  "kernelspec": {
   "display_name": "Python [conda env:climate]",
   "language": "python",
   "name": "conda-env-climate-py"
  },
  "language_info": {
   "codemirror_mode": {
    "name": "ipython",
    "version": 3
   },
   "file_extension": ".py",
   "mimetype": "text/x-python",
   "name": "python",
   "nbconvert_exporter": "python",
   "pygments_lexer": "ipython3",
   "version": "3.7.6"
  }
 },
 "nbformat": 4,
 "nbformat_minor": 4
}
