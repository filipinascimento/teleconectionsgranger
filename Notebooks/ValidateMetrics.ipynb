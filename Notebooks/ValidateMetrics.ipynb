{
 "cells": [
  {
   "cell_type": "markdown",
   "metadata": {},
   "source": [
    "# Calculate F-Measures based on ground truths\n",
    "This notebook evaluates the teleconnections based on prior works ground truths. It calculates AUC and F1 scores."
   ]
  },
  {
   "cell_type": "code",
   "execution_count": 2,
   "metadata": {},
   "outputs": [],
   "source": [
    "import matplotlib.pyplot as plt\n",
    "%matplotlib widget\n",
    "import numpy as np\n",
    "import os\n",
    "import math\n",
    "import matplotlib\n",
    "matplotlib.rcParams['pdf.fonttype'] = 42\n",
    "matplotlib.rcParams['ps.fonttype'] = 42\n",
    "import pandas as pd\n"
   ]
  },
  {
   "cell_type": "code",
   "execution_count": 3,
   "metadata": {},
   "outputs": [],
   "source": [
    "# Utility Function\n",
    "def inBoundingBox(bl, tr, p):\n",
    "    isLongInRange = False\n",
    "    if (tr[1] < bl[1]) :\n",
    "        isLongInRange = p[1] >= bl[1] or p[1] <= tr[1]\n",
    "    else:\n",
    "        isLongInRange = p[1] >= bl[1] and p[1] <= tr[1]\n",
    "    return p[0] >= bl[0]  and  p[0] <= tr[0]  and  isLongInRange"
   ]
  },
  {
   "cell_type": "code",
   "execution_count": null,
   "metadata": {},
   "outputs": [],
   "source": []
  },
  {
   "cell_type": "code",
   "execution_count": null,
   "metadata": {},
   "outputs": [],
   "source": []
  },
  {
   "cell_type": "code",
   "execution_count": 36,
   "metadata": {},
   "outputs": [
    {
     "name": "stderr",
     "output_type": "stream",
     "text": [
      "/home/filsilva/miniconda3/envs/climate/lib/python3.7/site-packages/ipykernel_launcher.py:111: RuntimeWarning: More than 20 figures have been opened. Figures created through the pyplot interface (`matplotlib.pyplot.figure`) are retained until explicitly closed and may consume too much memory. (To control this warning, see the rcParam `figure.max_open_warning`).\n"
     ]
    },
    {
     "data": {
      "application/vnd.jupyter.widget-view+json": {
       "model_id": "c26b4b57ac4d46439a6745b32fcb8144",
       "version_major": 2,
       "version_minor": 0
      },
      "text/plain": [
       "Canvas(toolbar=Toolbar(toolitems=[('Home', 'Reset original view', 'home', 'home'), ('Back', 'Back to previous …"
      ]
     },
     "metadata": {},
     "output_type": "display_data"
    },
    {
     "name": "stderr",
     "output_type": "stream",
     "text": [
      "/home/filsilva/miniconda3/envs/climate/lib/python3.7/site-packages/ipykernel_launcher.py:130: RuntimeWarning: More than 20 figures have been opened. Figures created through the pyplot interface (`matplotlib.pyplot.figure`) are retained until explicitly closed and may consume too much memory. (To control this warning, see the rcParam `figure.max_open_warning`).\n"
     ]
    },
    {
     "data": {
      "application/vnd.jupyter.widget-view+json": {
       "model_id": "771ba7fed34945478991b985b1d6170c",
       "version_major": 2,
       "version_minor": 0
      },
      "text/plain": [
       "Canvas(toolbar=Toolbar(toolitems=[('Home', 'Reset original view', 'home', 'home'), ('Back', 'Back to previous …"
      ]
     },
     "metadata": {},
     "output_type": "display_data"
    }
   ],
   "source": [
    "# Change dataName to the corresponding datafile in Data folder.\n",
    "dataName = \"Causality_dAll_l90_nx288_ny140_R0-100_v8\"\n",
    "propertyName = \"counts\"\n",
    "gridRegions = [];\n",
    "nx, ny = (288+1,70*2+1)\n",
    "x = np.linspace(-180+1.25*0.5, 180+1.25*0.50, nx)\n",
    "y = np.linspace(-70+0.5, 70+0.5, ny)\n",
    "xv, yv = np.meshgrid(x, y,sparse=False, indexing='ij')\n",
    "for xi in range(nx-1):\n",
    "    for yi in range(ny-1):\n",
    "        gridRegions.append([yv[xi,yi], yv[xi+1,yi+1], xv[xi,yi],xv[xi+1,yi+1]]);\n",
    "\n",
    "        \n",
    "boxes = {\n",
    "     \"Australia\" : [[-50,90],[25,-110]],\n",
    "     \"Asia\" : [[0,45],[50,100]],\n",
    "     \"Africa\" : [[-40,-20],[20,55]],\n",
    "     \"S. America\" : [[-20,-90],[24,-35]],\n",
    "     \"S. America 2\" : [[-60,-90],[-21,-40]],\n",
    "     \"N. America\" : [[25,-130],[60,-55]],\n",
    "}\n",
    "\n",
    "ENSORegion = [[-5 , -170] ,[5, -120]];\n",
    "\n",
    "  \n",
    "dfelnino = pd.read_csv(\"../Data/elninoPoints_v2.csv\")\n",
    "dflanina = pd.read_csv(\"../Data/laninaPoints_v2.csv\")\n",
    "\n",
    "dfOrig = pd.read_csv(\"../Data/%s.csv\"%dataName)\n",
    "\n",
    "# pvalues = df[\"causality\"].to_numpy()\n",
    "pvalues = dfOrig[propertyName].to_numpy();\n",
    "\n",
    "insideRegions = dfelnino[\"inside\"].to_numpy()+dflanina[\"inside\"].to_numpy();\n",
    "#pvalues = pvalues*0+0.001\n",
    "\n",
    "\n",
    "inAllBoxes = np.zeros(len(gridRegions),dtype=np.bool);\n",
    "inBoxes = {};\n",
    "inRegionCount = 0;\n",
    "outRegionCount = 0;\n",
    "for key, box in boxes.items():\n",
    "    inBoxes[key] = np.zeros(len(gridRegions),dtype=np.bool);\n",
    "    thisInBoxes = inBoxes[key];\n",
    "    for i,region in enumerate(gridRegions):\n",
    "        lat,lng = np.mean(region[0:1]),np.mean(region[2:3]);\n",
    "        if(inBoundingBox(box[0],box[1],[lat,lng]) and not inBoundingBox(ENSORegion[0],ENSORegion[1],[lat,lng])):\n",
    "            inAllBoxes[i] = True;\n",
    "            thisInBoxes[i] = True;\n",
    "            if(insideRegions[i]):\n",
    "                inRegionCount += 1;\n",
    "            else:\n",
    "                outRegionCount += 1;\n",
    "                \n",
    "pvalues[~inAllBoxes] = np.float(\"nan\");\n",
    "\n",
    "positivePValues = np.array(pvalues)\n",
    "\n",
    "key = \"All\"\n",
    "# for key in list(inBoxes.keys())+[\"All\"]:\n",
    "for key in [\"All\"]:\n",
    "    recalls = [];\n",
    "    precisions = [];\n",
    "    TPRs = []\n",
    "    FPRs = []\n",
    "    FMeasures = [];\n",
    "    F2Measures = [];\n",
    "    if(key==\"All\"):\n",
    "        insideBox = inAllBoxes;\n",
    "    else:\n",
    "        insideBox = inBoxes[key];\n",
    "        \n",
    "    selectedPValue = positivePValues[insideBox];\n",
    "    selectedInsideRegions = insideRegions[insideBox];\n",
    "    selectedIndices = np.argsort(selectedPValue)\n",
    "    percentiles = np.linspace(100,0,len(selectedIndices))\n",
    "            \n",
    "    for index in range(len(selectedIndices)):\n",
    "        confusionMatrix = np.zeros([2,2]);\n",
    "        \n",
    "        \n",
    "        inThreshold = np.zeros(len(selectedInsideRegions),dtype=np.bool);\n",
    "        inThreshold[selectedIndices[index:]] = True;\n",
    "        inThresholdInRegions = selectedInsideRegions[inThreshold];\n",
    "        inThresholdNotInRegions = ~selectedInsideRegions[inThreshold];\n",
    "        \n",
    "        notInThresholdInRegions = selectedInsideRegions[~inThreshold];\n",
    "        notInThresholdNotInRegions = ~selectedInsideRegions[~inThreshold];\n",
    "        \n",
    "        #confusion Matrix\n",
    "        c11 = np.sum(inThresholdInRegions);\n",
    "        c01 = np.sum(inThresholdNotInRegions);\n",
    "        c10 = np.sum(notInThresholdInRegions);\n",
    "        c00 = np.sum(notInThresholdNotInRegions);\n",
    "        \n",
    "        TP = c11;\n",
    "        FN = c10;\n",
    "        FP = c01;\n",
    "        TN = c00;\n",
    "        TPRs.append(TP/(TP+FN));\n",
    "        FPRs.append(FP/(FP+TN));\n",
    "        precision=TP/(TP+FP);\n",
    "        recall=TP/(TP+FN);\n",
    "        FMeasure = 2.0*(precision*recall)/(precision+recall)\n",
    "        F2Measure = (1+4)*(precision*recall)/(4*precision+recall)\n",
    "        (precision,recall,FMeasure)\n",
    "        precisions.append(precision);\n",
    "        recalls.append(recall);\n",
    "        FMeasures.append(FMeasure);\n",
    "        F2Measures.append(F2Measure);\n",
    "    fig = plt.figure(figsize=(5,2.5))\n",
    "    \n",
    "    xp = selectedPValue[selectedIndices]\n",
    "    fp = percentiles\n",
    "#     for pLine in [0.05,0.01,0.001]:\n",
    "#         pPercentile = np.interp(pLine, xp, fp)\n",
    "#         plt.axvline(x=pPercentile,ls=\"--\",lw=0.5,color=(0.3,0.3,0.3))\n",
    "#         plt.text(pPercentile+0.5, 0.98, \"%g\"%pLine,rotation=90,fontsize=8,color=(0.3,0.3,0.3))\n",
    "    plt.plot(percentiles,recalls, label=\"Recall\");\n",
    "    plt.plot(percentiles,precisions, label=\"Precision\");\n",
    "    plt.plot(percentiles,FMeasures,label=\"F1\");\n",
    "    plt.plot(percentiles,F2Measures,label=\"F2\");\n",
    "    plt.title(key)\n",
    "    plt.xlabel(\"Percentile\")\n",
    "    plt.legend(loc = 'lower right',fontsize='small',fancybox=False,labelspacing=0.3,frameon=False,borderaxespad=0.1)\n",
    "    plt.tight_layout()\n",
    "#     fig.savefig(\"Figures/%s_v2_test_%s.pdf\"%(dataName,key))\n",
    "    plt.show()\n",
    "    \n",
    "    fig = plt.figure(figsize=(2.5,2.5))\n",
    "    plt.plot(FPRs,TPRs,color = \"#991111\")\n",
    "    plt.plot([0,1],[0,1],\"--\",color=\"#AAAAAA\")\n",
    "    plt.xlabel(\"False Positives Ratio\")\n",
    "    plt.ylabel(\"True Positives Ratio\")\n",
    "    plt.xlim(0,1);\n",
    "    plt.ylim(0,1);\n",
    "    plt.title(key+\" (AUC=%.2f)\"%(-np.trapz(TPRs,FPRs)))\n",
    "    plt.tight_layout()\n",
    "#     fig.savefig(\"../Figures/%s_AUC_v2_test_%s.pdf\"%(dataName,key))\n",
    "    plt.show()\n",
    "    \n"
   ]
  }
 ],
 "metadata": {
  "kernelspec": {
   "display_name": "Python [conda env:climate]",
   "language": "python",
   "name": "conda-env-climate-py"
  },
  "language_info": {
   "codemirror_mode": {
    "name": "ipython",
    "version": 3
   },
   "file_extension": ".py",
   "mimetype": "text/x-python",
   "name": "python",
   "nbconvert_exporter": "python",
   "pygments_lexer": "ipython3",
   "version": "3.7.6"
  }
 },
 "nbformat": 4,
 "nbformat_minor": 4
}
